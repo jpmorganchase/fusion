{
 "cells": [
  {
   "cell_type": "code",
   "execution_count": 1,
   "metadata": {},
   "outputs": [],
   "source": [
    "from fusion import fusion"
   ]
  },
  {
   "cell_type": "code",
   "execution_count": 2,
   "metadata": {},
   "outputs": [],
   "source": [
    "client = fusion.Fusion()"
   ]
  },
  {
   "cell_type": "code",
   "execution_count": 3,
   "metadata": {},
   "outputs": [
    {
     "data": {
      "text/plain": [
       "Fusion object \n",
       "Available methods:\n",
       "+-------------------------+-----------------------------------------------------------------------------------------------+\n",
       "| catalog_resources       | List the resources contained within the catalog, for example products and datasets.           |\n",
       "| create_dataset_lineage  | Upload lineage to a dataset.                                                                  |\n",
       "| dataset_resources       | List the resources available for a dataset, currently this will always be a datasetseries.    |\n",
       "| datasetmember_resources | List the available resources for a datasetseries member.                                      |\n",
       "| download                | Downloads the requested distributions of a dataset to disk.                                   |\n",
       "| from_bytes              | Uploads data from an object in memory.                                                        |\n",
       "| get_events              | Run server sent event listener and print out the new events. Keyboard terminate to stop.      |\n",
       "| get_fusion_filesystem   | Creates Fusion Filesystem.                                                                    |\n",
       "| list_catalogs           | Lists the catalogs available to the API account.                                              |\n",
       "| list_dataset_attributes | Returns the list of attributes that are in the dataset.                                       |\n",
       "| list_dataset_lineage    | List the upstream and downstream lineage of the dataset.                                      |\n",
       "| list_datasetmembers     | List the available members in the dataset series.                                             |\n",
       "| list_datasets           | Get the datasets contained in a catalog.                                                      |\n",
       "| list_distributions      | List the available distributions (downloadable instances of the dataset with a format type).  |\n",
       "| list_products           | Get the products contained in a catalog. A product is a grouping of datasets.                 |\n",
       "| listen_to_events        | Run server sent event listener in the background. Retrieve results by running get_events.     |\n",
       "| to_bytes                | Returns an instance of dataset (the distribution) as a bytes object.                          |\n",
       "| to_df                   | Gets distributions for a specified date or date range and returns the data as a dataframe.    |\n",
       "| to_table                | Gets distributions for a specified date or date range and returns the data as an arrow table. |\n",
       "| upload                  | Uploads the requested files/files to Fusion.                                                  |\n",
       "| default_catalog         | Returns the default catalog.                                                                  |\n",
       "+-------------------------+-----------------------------------------------------------------------------------------------+"
      ]
     },
     "execution_count": 3,
     "metadata": {},
     "output_type": "execute_result"
    }
   ],
   "source": [
    "client"
   ]
  },
  {
   "cell_type": "code",
   "execution_count": 4,
   "metadata": {},
   "outputs": [
    {
     "data": {
      "text/html": [
       "<div>\n",
       "<style scoped>\n",
       "    .dataframe tbody tr th:only-of-type {\n",
       "        vertical-align: middle;\n",
       "    }\n",
       "\n",
       "    .dataframe tbody tr th {\n",
       "        vertical-align: top;\n",
       "    }\n",
       "\n",
       "    .dataframe thead th {\n",
       "        text-align: right;\n",
       "    }\n",
       "</style>\n",
       "<table border=\"1\" class=\"dataframe\">\n",
       "  <thead>\n",
       "    <tr style=\"text-align: right;\">\n",
       "      <th></th>\n",
       "      <th>identifier</th>\n",
       "      <th>description</th>\n",
       "      <th>title</th>\n",
       "      <th>@id</th>\n",
       "    </tr>\n",
       "  </thead>\n",
       "  <tbody>\n",
       "    <tr>\n",
       "      <th>0</th>\n",
       "      <td>fusiondemo</td>\n",
       "      <td>A catalog of fusion demo data</td>\n",
       "      <td>Fusion Demo</td>\n",
       "      <td>fusiondemo/</td>\n",
       "    </tr>\n",
       "    <tr>\n",
       "      <th>1</th>\n",
       "      <td>common</td>\n",
       "      <td>A catalog of common data</td>\n",
       "      <td>Common</td>\n",
       "      <td>common/</td>\n",
       "    </tr>\n",
       "  </tbody>\n",
       "</table>\n",
       "</div>"
      ],
      "text/plain": [
       "   identifier                    description        title          @id\n",
       "0  fusiondemo  A catalog of fusion demo data  Fusion Demo  fusiondemo/\n",
       "1      common       A catalog of common data       Common      common/"
      ]
     },
     "execution_count": 4,
     "metadata": {},
     "output_type": "execute_result"
    }
   ],
   "source": [
    "client.list_catalogs()"
   ]
  },
  {
   "cell_type": "code",
   "execution_count": 7,
   "metadata": {},
   "outputs": [
    {
     "data": {
      "text/html": [
       "<pre style=\"white-space:pre;overflow-x:auto;line-height:normal;font-family:Menlo,'DejaVu Sans Mono',consolas,'Courier New',monospace\">/Users/georgiannajames/fusion/.venv/lib/python3.9/site-packages/rich/live.py:231: UserWarning: install \"ipywidgets\"\n",
       "for Jupyter support\n",
       "  warnings.warn('install \"ipywidgets\" for Jupyter support')\n",
       "</pre>\n"
      ],
      "text/plain": [
       "/Users/georgiannajames/fusion/.venv/lib/python3.9/site-packages/rich/live.py:231: UserWarning: install \"ipywidgets\"\n",
       "for Jupyter support\n",
       "  warnings.warn('install \"ipywidgets\" for Jupyter support')\n"
      ]
     },
     "metadata": {},
     "output_type": "display_data"
    },
    {
     "data": {
      "text/html": [
       "<pre style=\"white-space:pre;overflow-x:auto;line-height:normal;font-family:Menlo,'DejaVu Sans Mono',consolas,'Courier New',monospace\"></pre>\n"
      ],
      "text/plain": []
     },
     "metadata": {},
     "output_type": "display_data"
    },
    {
     "data": {
      "text/html": [
       "<pre style=\"white-space:pre;overflow-x:auto;line-height:normal;font-family:Menlo,'DejaVu Sans Mono',consolas,'Courier New',monospace\">\n",
       "</pre>\n"
      ],
      "text/plain": [
       "\n"
      ]
     },
     "metadata": {},
     "output_type": "display_data"
    },
    {
     "name": "stderr",
     "output_type": "stream",
     "text": [
      "/Users/georgiannajames/fusion/py_src/fusion/utils.py:250: FutureWarning: Passing 'use_legacy_dataset' is deprecated as of pyarrow 15.0.0 and will be removed in a future version.\n",
      "  pq.ParquetDataset(\n",
      "/Users/georgiannajames/fusion/py_src/fusion/utils.py:271: FutureWarning: Passing 'use_legacy_dataset' is deprecated as of pyarrow 15.0.0 and will be removed in a future version.\n",
      "  return pq.ParquetDataset(\n"
     ]
    },
    {
     "data": {
      "text/html": [
       "<div>\n",
       "<style scoped>\n",
       "    .dataframe tbody tr th:only-of-type {\n",
       "        vertical-align: middle;\n",
       "    }\n",
       "\n",
       "    .dataframe tbody tr th {\n",
       "        vertical-align: top;\n",
       "    }\n",
       "\n",
       "    .dataframe thead th {\n",
       "        text-align: right;\n",
       "    }\n",
       "</style>\n",
       "<table border=\"1\" class=\"dataframe\">\n",
       "  <thead>\n",
       "    <tr style=\"text-align: right;\">\n",
       "      <th></th>\n",
       "      <th>instrument_name</th>\n",
       "      <th>currency_pair</th>\n",
       "      <th>term</th>\n",
       "      <th>strategy</th>\n",
       "      <th>delta</th>\n",
       "      <th>product</th>\n",
       "      <th>date</th>\n",
       "      <th>volatility</th>\n",
       "    </tr>\n",
       "  </thead>\n",
       "  <tbody>\n",
       "    <tr>\n",
       "      <th>0</th>\n",
       "      <td>BRLSEK | Spot | Strangle (Delta 10)</td>\n",
       "      <td>BRLSEK</td>\n",
       "      <td>Spot</td>\n",
       "      <td>Strangle</td>\n",
       "      <td>10</td>\n",
       "      <td>FXOption</td>\n",
       "      <td>20240201</td>\n",
       "      <td>0.871122</td>\n",
       "    </tr>\n",
       "    <tr>\n",
       "      <th>1</th>\n",
       "      <td>CADCHF | Spot | Strangle (Delta 10)</td>\n",
       "      <td>CADCHF</td>\n",
       "      <td>Spot</td>\n",
       "      <td>Strangle</td>\n",
       "      <td>10</td>\n",
       "      <td>FXOption</td>\n",
       "      <td>20240201</td>\n",
       "      <td>0.355072</td>\n",
       "    </tr>\n",
       "    <tr>\n",
       "      <th>2</th>\n",
       "      <td>CADCZK | Spot | Strangle (Delta 10)</td>\n",
       "      <td>CADCZK</td>\n",
       "      <td>Spot</td>\n",
       "      <td>Strangle</td>\n",
       "      <td>10</td>\n",
       "      <td>FXOption</td>\n",
       "      <td>20240201</td>\n",
       "      <td>1.056827</td>\n",
       "    </tr>\n",
       "    <tr>\n",
       "      <th>3</th>\n",
       "      <td>CADDKK | Spot | Strangle (Delta 10)</td>\n",
       "      <td>CADDKK</td>\n",
       "      <td>Spot</td>\n",
       "      <td>Strangle</td>\n",
       "      <td>10</td>\n",
       "      <td>FXOption</td>\n",
       "      <td>20240201</td>\n",
       "      <td>0.568417</td>\n",
       "    </tr>\n",
       "    <tr>\n",
       "      <th>4</th>\n",
       "      <td>CADJPY | Spot | Strangle (Delta 10)</td>\n",
       "      <td>CADJPY</td>\n",
       "      <td>Spot</td>\n",
       "      <td>Strangle</td>\n",
       "      <td>10</td>\n",
       "      <td>FXOption</td>\n",
       "      <td>20240201</td>\n",
       "      <td>0.313355</td>\n",
       "    </tr>\n",
       "    <tr>\n",
       "      <th>...</th>\n",
       "      <td>...</td>\n",
       "      <td>...</td>\n",
       "      <td>...</td>\n",
       "      <td>...</td>\n",
       "      <td>...</td>\n",
       "      <td>...</td>\n",
       "      <td>...</td>\n",
       "      <td>...</td>\n",
       "    </tr>\n",
       "    <tr>\n",
       "      <th>9835</th>\n",
       "      <td>BRLHUF | 12M | Strangle (Delta 25)</td>\n",
       "      <td>BRLHUF</td>\n",
       "      <td>12M</td>\n",
       "      <td>Strangle</td>\n",
       "      <td>25</td>\n",
       "      <td>FXOption</td>\n",
       "      <td>20240201</td>\n",
       "      <td>0.381459</td>\n",
       "    </tr>\n",
       "    <tr>\n",
       "      <th>9836</th>\n",
       "      <td>BRLNOK | 12M | Strangle (Delta 25)</td>\n",
       "      <td>BRLNOK</td>\n",
       "      <td>12M</td>\n",
       "      <td>Strangle</td>\n",
       "      <td>25</td>\n",
       "      <td>FXOption</td>\n",
       "      <td>20240201</td>\n",
       "      <td>0.299759</td>\n",
       "    </tr>\n",
       "    <tr>\n",
       "      <th>9837</th>\n",
       "      <td>BRLTHB | 12M | Strangle (Delta 25)</td>\n",
       "      <td>BRLTHB</td>\n",
       "      <td>12M</td>\n",
       "      <td>Strangle</td>\n",
       "      <td>25</td>\n",
       "      <td>FXOption</td>\n",
       "      <td>20240201</td>\n",
       "      <td>0.445906</td>\n",
       "    </tr>\n",
       "    <tr>\n",
       "      <th>9838</th>\n",
       "      <td>CADILS | 12M | Strangle (Delta 25)</td>\n",
       "      <td>CADILS</td>\n",
       "      <td>12M</td>\n",
       "      <td>Strangle</td>\n",
       "      <td>25</td>\n",
       "      <td>FXOption</td>\n",
       "      <td>20240201</td>\n",
       "      <td>0.223583</td>\n",
       "    </tr>\n",
       "    <tr>\n",
       "      <th>9839</th>\n",
       "      <td>CADPLN | 12M | Strangle (Delta 25)</td>\n",
       "      <td>CADPLN</td>\n",
       "      <td>12M</td>\n",
       "      <td>Strangle</td>\n",
       "      <td>25</td>\n",
       "      <td>FXOption</td>\n",
       "      <td>20240201</td>\n",
       "      <td>0.268132</td>\n",
       "    </tr>\n",
       "  </tbody>\n",
       "</table>\n",
       "<p>9840 rows × 8 columns</p>\n",
       "</div>"
      ],
      "text/plain": [
       "                          instrument_name currency_pair  term  strategy delta  \\\n",
       "0     BRLSEK | Spot | Strangle (Delta 10)        BRLSEK  Spot  Strangle    10   \n",
       "1     CADCHF | Spot | Strangle (Delta 10)        CADCHF  Spot  Strangle    10   \n",
       "2     CADCZK | Spot | Strangle (Delta 10)        CADCZK  Spot  Strangle    10   \n",
       "3     CADDKK | Spot | Strangle (Delta 10)        CADDKK  Spot  Strangle    10   \n",
       "4     CADJPY | Spot | Strangle (Delta 10)        CADJPY  Spot  Strangle    10   \n",
       "...                                   ...           ...   ...       ...   ...   \n",
       "9835   BRLHUF | 12M | Strangle (Delta 25)        BRLHUF   12M  Strangle    25   \n",
       "9836   BRLNOK | 12M | Strangle (Delta 25)        BRLNOK   12M  Strangle    25   \n",
       "9837   BRLTHB | 12M | Strangle (Delta 25)        BRLTHB   12M  Strangle    25   \n",
       "9838   CADILS | 12M | Strangle (Delta 25)        CADILS   12M  Strangle    25   \n",
       "9839   CADPLN | 12M | Strangle (Delta 25)        CADPLN   12M  Strangle    25   \n",
       "\n",
       "       product      date  volatility  \n",
       "0     FXOption  20240201    0.871122  \n",
       "1     FXOption  20240201    0.355072  \n",
       "2     FXOption  20240201    1.056827  \n",
       "3     FXOption  20240201    0.568417  \n",
       "4     FXOption  20240201    0.313355  \n",
       "...        ...       ...         ...  \n",
       "9835  FXOption  20240201    0.381459  \n",
       "9836  FXOption  20240201    0.299759  \n",
       "9837  FXOption  20240201    0.445906  \n",
       "9838  FXOption  20240201    0.223583  \n",
       "9839  FXOption  20240201    0.268132  \n",
       "\n",
       "[9840 rows x 8 columns]"
      ]
     },
     "execution_count": 7,
     "metadata": {},
     "output_type": "execute_result"
    }
   ],
   "source": [
    "client.to_df('FXO_ST')"
   ]
  }
 ],
 "metadata": {
  "kernelspec": {
   "display_name": ".venv",
   "language": "python",
   "name": "python3"
  },
  "language_info": {
   "codemirror_mode": {
    "name": "ipython",
    "version": 3
   },
   "file_extension": ".py",
   "mimetype": "text/x-python",
   "name": "python",
   "nbconvert_exporter": "python",
   "pygments_lexer": "ipython3",
   "version": "3.9.19"
  }
 },
 "nbformat": 4,
 "nbformat_minor": 2
}
