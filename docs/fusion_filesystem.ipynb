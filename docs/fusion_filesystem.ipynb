{
    "cells": [
        {
            "cell_type": "markdown",
            "metadata": {},
            "source": [
                "# Fusion - Working w/ Fusion File System (FFS)"
            ]
        },
        {
            "cell_type": "code",
            "execution_count": 2,
            "metadata": {},
            "outputs": [],
            "source": [
                "from fusion import Fusion\n",
                "import asyncio\n",
                "import ast\n",
                "\n",
                "# Package only for running async in notebook\n",
                "import nest_asyncio\n",
                "nest_asyncio.apply()"
            ]
        },
        {
            "cell_type": "code",
            "execution_count": 3,
            "metadata": {},
            "outputs": [],
            "source": [
                "test_path = \"common/datasets/ISS_ESG_CNTRY_RTNG_SSF/datasetseries/20250101/distributions\""
            ]
        },
        {
            "cell_type": "markdown",
            "metadata": {},
            "source": [
                "## Creating FFS Instances"
            ]
        },
        {
            "cell_type": "markdown",
            "metadata": {},
            "source": [
                "Simplest way to create a synchronous FFS instance is to call the below Fusion method:"
            ]
        },
        {
            "cell_type": "code",
            "execution_count": 4,
            "metadata": {},
            "outputs": [],
            "source": [
                "# Fusion instance setup (synchronous)\n",
                "f_inst1 = Fusion()\n",
                "sync_ffs = f_inst1.get_fusion_filesystem()\n"
            ]
        },
        {
            "cell_type": "code",
            "execution_count": 5,
            "metadata": {},
            "outputs": [],
            "source": [
                "# To create an async fusion file system, will require instantiating the FusionHTTPFileSystem class itself\n",
                "from fusion.fusion_filesystem import FusionHTTPFileSystem\n",
                "\n",
                "f_inst2 = Fusion()\n",
                "as_async = True\n",
                "\n",
                "async_ffs = FusionHTTPFileSystem(\n",
                "    client_kwargs={\n",
                "        \"root_url\": f_inst2.root_url,\n",
                "        \"credentials\": f_inst2.credentials,\n",
                "    },\n",
                "    asynchronous=as_async\n",
                ")"
            ]
        },
        {
            "cell_type": "markdown",
            "metadata": {},
            "source": [
                "## Executing Basic File System Operations"
            ]
        },
        {
            "cell_type": "markdown",
            "metadata": {},
            "source": [
                "File system operations like \"cat\", \"ls\", \"info\", and \"find\" can easily be executed by calling their associated methods on your file system instance. \n",
                "\n",
                "Output for many operations will be a JSON. Byte-type outputs can be converted to string via methods like byte.decode(), and a string can be parsed to a dictionary using ast.literal_eval."
            ]
        },
        {
            "cell_type": "markdown",
            "metadata": {},
            "source": [
                "### Sync"
            ]
        },
        {
            "cell_type": "code",
            "execution_count": 9,
            "metadata": {},
            "outputs": [
                {
                    "name": "stdout",
                    "output_type": "stream",
                    "text": [
                        "Raw .cat output <class 'bytes'>: b'{\"resources\":[{\"title\":\"CSV\",\"fileExtension\":\".csv\",\"description\":\"Snapshot data will be in a tabular, comma separated format.\",\"mediaType\":\"text/csv; header=present; charset=utf-8\",\"identifier\":\"csv\",\"@id\":\"csv/\"},{\"title\":\"Parquet\",\"fileExtension\":\".parquet\",\"description\":\"Snapshot data will be in a parquet format.\",\"mediaType\":\"application/parquet; header=present\",\"identifier\":\"parquet\",\"@id\":\"parquet/\"}],\"@context\":{\"@base\":\"https://fusion.jpmorgan.com/api/v1/\",\"@vocab\":\"https://www.w3.org/ns/dcat3.jsonld\"},\"description\":\"A list of available distributions\",\"@id\":\"distributions/\",\"identifier\":\"distributions\",\"title\":\"Distributions\"}'\n",
                        "Cast .cat output <class 'str'>: {\"resources\":[{\"title\":\"CSV\",\"fileExtension\":\".csv\",\"description\":\"Snapshot data will be in a tabular, comma separated format.\",\"mediaType\":\"text/csv; header=present; charset=utf-8\",\"identifier\":\"csv\",\"@id\":\"csv/\"},{\"title\":\"Parquet\",\"fileExtension\":\".parquet\",\"description\":\"Snapshot data will be in a parquet format.\",\"mediaType\":\"application/parquet; header=present\",\"identifier\":\"parquet\",\"@id\":\"parquet/\"}],\"@context\":{\"@base\":\"https://fusion.jpmorgan.com/api/v1/\",\"@vocab\":\"https://www.w3.org/ns/dcat3.jsonld\"},\"description\":\"A list of available distributions\",\"@id\":\"distributions/\",\"identifier\":\"distributions\",\"title\":\"Distributions\"}\n",
                        "Parsed .cat output <class 'dict'>: {'resources': [{'title': 'CSV', 'fileExtension': '.csv', 'description': 'Snapshot data will be in a tabular, comma separated format.', 'mediaType': 'text/csv; header=present; charset=utf-8', 'identifier': 'csv', '@id': 'csv/'}, {'title': 'Parquet', 'fileExtension': '.parquet', 'description': 'Snapshot data will be in a parquet format.', 'mediaType': 'application/parquet; header=present', 'identifier': 'parquet', '@id': 'parquet/'}], '@context': {'@base': 'https://fusion.jpmorgan.com/api/v1/', '@vocab': 'https://www.w3.org/ns/dcat3.jsonld'}, 'description': 'A list of available distributions', '@id': 'distributions/', 'identifier': 'distributions', 'title': 'Distributions'}\n"
                    ]
                }
            ],
            "source": [
                "cat_output_bytes = sync_ffs.cat(test_path)\n",
                "cat_output_str = cat_output_bytes.decode(\"UTF-8\")\n",
                "cat_output_parsed = ast.literal_eval(cat_output_str)\n",
                "\n",
                "print(f\"Raw .cat output {type(cat_output_bytes)}: {cat_output_bytes}\")\n",
                "print(f\"Cast .cat output {type(cat_output_str)}: {cat_output_str}\")\n",
                "print(f\"Parsed .cat output {type(cat_output_parsed)}: {cat_output_parsed}\")"
            ]
        },
        {
            "cell_type": "markdown",
            "metadata": {},
            "source": [
                "### Async"
            ]
        },
        {
            "cell_type": "markdown",
            "metadata": {},
            "source": [
                "Using the async versions of our ffs functions will require more active management to properly execute. An aiohttp.ClientSession must be opened prior to method execution and all execution must occur in an async context."
            ]
        },
        {
            "cell_type": "code",
            "execution_count": 4,
            "metadata": {},
            "outputs": [],
            "source": [
                "target = \"catalogs/common/datasets/FXO_SP/datasetseries/20230726/distributions/csv\""
            ]
        },
        {
            "cell_type": "code",
            "execution_count": null,
            "metadata": {},
            "outputs": [],
            "source": [
                "# Function to run async functions in a synchronous context\n",
                "def execute_coroutine(coroute):\n",
                "    \"\"\"Execute coroutine from an un-awaited async function.\n",
                "    \n",
                "    Args:\n",
                "        coroute (coroutine): An async function's returned coroutine.\n",
                "    \n",
                "    Returns:\n",
                "        Result of coroutine execution.\n",
                "    \"\"\"\n",
                "    loop = asyncio.get_event_loop()\n",
                "    result = loop.run_until_complete(coroute)\n",
                "    return result\n",
                "\n",
                "# Example async function wrapping a basic fs operations we might use, here file downloading.\n",
                "async def async_read(ffs: FusionHTTPFileSystem, client: Fusion, path: str):\n",
                "    \"\"\"Read a file asynchronously using provided ffs file system.\n",
                "    \n",
                "    Args:\n",
                "        ffs (FusionHTTPFileSystem): FFS file system configured to read from path.\n",
                "        client (Fusion): Fusion instance to extract root_url from.\n",
                "        path (str): Path without root_url to access desired file.\n",
                "    \n",
                "    Returns:\n",
                "        File returned as bytes.\n",
                "    \"\"\"\n",
                "    f = await ffs.open_async(client.root_url + path, \"rb\")\n",
                "    async with f:\n",
                "        result = await f.read()\n",
                "    return result"
            ]
        },
        {
            "cell_type": "code",
            "execution_count": 12,
            "metadata": {},
            "outputs": [
                {
                    "name": "stdout",
                    "output_type": "stream",
                    "text": [
                        "Raw .cat output <class 'bytes'>: b'{\"@id\":\"distributions/\",\"title\":\"Distributions\",\"identifier\":\"distributions\",\"resources\":[{\"fileExtension\":\".csv\",\"mediaType\":\"text/csv; header=present; charset=utf-8\",\"identifier\":\"csv\",\"@id\":\"csv/\",\"description\":\"Snapshot data will be in a tabular, comma separated format.\",\"title\":\"CSV\"},{\"fileExtension\":\".parquet\",\"mediaType\":\"application/parquet; header=present\",\"identifier\":\"parquet\",\"@id\":\"parquet/\",\"description\":\"Snapshot data will be in a parquet format.\",\"title\":\"Parquet\"}],\"description\":\"A list of available distributions\",\"@context\":{\"@base\":\"https://fusion.jpmorgan.com/api/v1/\",\"@vocab\":\"https://www.w3.org/ns/dcat3.jsonld\"}}'\n",
                        "Cast .cat output <class 'str'>: {\"@id\":\"distributions/\",\"title\":\"Distributions\",\"identifier\":\"distributions\",\"resources\":[{\"fileExtension\":\".csv\",\"mediaType\":\"text/csv; header=present; charset=utf-8\",\"identifier\":\"csv\",\"@id\":\"csv/\",\"description\":\"Snapshot data will be in a tabular, comma separated format.\",\"title\":\"CSV\"},{\"fileExtension\":\".parquet\",\"mediaType\":\"application/parquet; header=present\",\"identifier\":\"parquet\",\"@id\":\"parquet/\",\"description\":\"Snapshot data will be in a parquet format.\",\"title\":\"Parquet\"}],\"description\":\"A list of available distributions\",\"@context\":{\"@base\":\"https://fusion.jpmorgan.com/api/v1/\",\"@vocab\":\"https://www.w3.org/ns/dcat3.jsonld\"}}\n",
                        "Parsed .cat output <class 'dict'>: {'@id': 'distributions/', 'title': 'Distributions', 'identifier': 'distributions', 'resources': [{'fileExtension': '.csv', 'mediaType': 'text/csv; header=present; charset=utf-8', 'identifier': 'csv', '@id': 'csv/', 'description': 'Snapshot data will be in a tabular, comma separated format.', 'title': 'CSV'}, {'fileExtension': '.parquet', 'mediaType': 'application/parquet; header=present', 'identifier': 'parquet', '@id': 'parquet/', 'description': 'Snapshot data will be in a parquet format.', 'title': 'Parquet'}], 'description': 'A list of available distributions', '@context': {'@base': 'https://fusion.jpmorgan.com/api/v1/', '@vocab': 'https://www.w3.org/ns/dcat3.jsonld'}}\n"
                    ]
                }
            ],
            "source": [
                "# Before deploying any ffs async methods, must first call the async method .set_session()\n",
                "sess = execute_coroutine(async_ffs.set_session())\n",
                "\n",
                "# Execute cat asynchronously\n",
                "# _cat, like other _methods, is asynchronous. Running it by itself returns a coroutine.\n",
                "# To actually execute the code, you either can \"await\" the coroutine in an asynchronous context\n",
                "# or if you're in a synchronous context (like this notebook), use a function like execute_coroutine.\n",
                "cat_coroutine = async_ffs._cat(test_path) # Returns a coroutine but does not yet execute code\n",
                "cat_async_bytes = execute_coroutine(cat_coroutine)\n",
                "cat_async_str = cat_async_bytes.decode(\"UTF-8\")\n",
                "cat_async_parsed = ast.literal_eval(cat_async_str)\n",
                "\n",
                "print(f\"Raw .cat output {type(cat_async_bytes)}: {cat_async_bytes}\")\n",
                "print(f\"Cast .cat output {type(cat_async_str)}: {cat_async_str}\")\n",
                "print(f\"Parsed .cat output {type(cat_async_parsed)}: {cat_async_parsed}\")"
            ]
        },
        {
            "cell_type": "code",
            "execution_count": null,
            "metadata": {},
            "outputs": [
                {
                    "data": {
                        "text/plain": [
                            "b'instrument_name,currency_pair,term,product,date,fx_rate\\nUSDAED | Spot,USDAED,Spot,FXSpot,20230726,3.673025\\nUSDARS | Spot,USDARS,Spot,FXSpot,20230726,272.5\\nUSDCHF | Spot,USDCHF,Spot,FXSpot,20230726,0.8632\\nUSDCNY | Spot,USDCNY,Spot,FXSpot,20230726,7.1504\\nUSDDKK | Spot,USDDKK,Spot,FXSpot,20230726,6.7345\\nUSDHUF | Spot,USDHUF,Spot,FXSpot,20230726,347.17\\nUSDIDO | Spot,USDIDO,Spot,FXSpot,20230726,15032.0\\nUSDIDR | Spot,USDIDR,Spot,FXSpot,20230726,15032.0\\nUSDILS | Spot,USDILS,Spot,FXSpot,20230726,3.6945\\nUSDMXN | Spot,USDMXN,Spot,FXSpot,20230726,16.835\\nUSDPAB | Spot,USDPAB,Spot,FXSpot,20230726,1.0\\nUSDPHF | Spot,USDPHF,Spot,FXSpot,20230726,54.62\\nUSDPHP | Spot,USDPHP,Spot,FXSpot,20230726,54.62\\nUSDSAR | Spot,USDSAR,Spot,FXSpot,20230726,3.7511\\nUSDTHB | Spot,USDTHB,Spot,FXSpot,20230726,34.309\\nUSDTRY | Spot,USDTRY,Spot,FXSpot,20230726,26.9495\\nUSDUAH | Spot,USDUAH,Spot,FXSpot,20230726,36.75145\\nXAUUSD | Spot,XAUUSD,Spot,FXSpot,20230726,1969.0\\nAUDUSD | Spot,AUDUSD,Spot,FXSpot,20230726,0.67525\\nEURUSD | Spot,EURUSD,Spot,FXSpot,20230726,1.1064\\nNZDUSD | Spot,NZDUSD,Spot,FXSpot,20230726,0.621\\nUSDCAD | Spot,USDCAD,Spot,FXSpot,20230726,1.3219\\nUSDCLF | Spot,USDCLF,Spot,FXSpot,20230726,0.0228602539\\nUSDCOP | Spot,USDCOP,Spot,FXSpot,20230726,3952.5\\nUSDIDF | Spot,USDIDF,Spot,FXSpot,20230726,15032.0\\nUSDINR | Spot,USDINR,Spot,FXSpot,20230726,82.01\\nUSDISK | Spot,USDISK,Spot,FXSpot,20230726,131.51\\nUSDJPY | Spot,USDJPY,Spot,FXSpot,20230726,140.365\\nUSDKRF | Spot,USDKRF,Spot,FXSpot,20230726,1276.5\\nUSDKRW | Spot,USDKRW,Spot,FXSpot,20230726,1276.5\\nUSDKWD | Spot,USDKWD,Spot,FXSpot,20230726,0.30694\\nUSDLBP | Spot,USDLBP,Spot,FXSpot,20230726,15010.0\\nUSDNOK | Spot,USDNOK,Spot,FXSpot,20230726,10.1345\\nUSDPKR | Spot,USDPKR,Spot,FXSpot,20230726,286.8\\nUSDRUB | Spot,USDRUB,Spot,FXSpot,20230726,89.95\\nUSDSEK | Spot,USDSEK,Spot,FXSpot,20230726,10.4541\\nUSDSGD | Spot,USDSGD,Spot,FXSpot,20230726,1.32675\\nUSDTWF | Spot,USDTWF,Spot,FXSpot,20230726,31.253\\nXPTUSD | Spot,XPTUSD,Spot,FXSpot,20230726,965.5\\nGBPUSD | Spot,GBPUSD,Spot,FXSpot,20230726,1.2922\\nUSDBMD | Spot,USDBMD,Spot,FXSpot,20230726,1.0\\nUSDBRL | Spot,USDBRL,Spot,FXSpot,20230726,4.7276\\nUSDCLP | Spot,USDCLP,Spot,FXSpot,20230726,824.25\\nUSDCNH | Spot,USDCNH,Spot,FXSpot,20230726,7.15025\\nUSDCZK | Spot,USDCZK,Spot,FXSpot,20230726,21.734\\nUSDEGP | Spot,USDEGP,Spot,FXSpot,20230726,30.9\\nUSDHKD | Spot,USDHKD,Spot,FXSpot,20230726,7.80045\\nUSDINO | Spot,USDINO,Spot,FXSpot,20230726,82.01\\nUSDJOD | Spot,USDJOD,Spot,FXSpot,20230726,0.70855\\nUSDKES | Spot,USDKES,Spot,FXSpot,20230726,143.275\\nUSDLKR | Spot,USDLKR,Spot,FXSpot,20230726,329.0\\nUSDMYR | Spot,USDMYR,Spot,FXSpot,20230726,4.545\\nUSDPEN | Spot,USDPEN,Spot,FXSpot,20230726,3.599\\nUSDPLN | Spot,USDPLN,Spot,FXSpot,20230726,4.0036\\nUSDSKK | Spot,USDSKK,Spot,FXSpot,20230726,27.2288503254\\nUSDTHO | Spot,USDTHO,Spot,FXSpot,20230726,34.309\\nUSDTWD | Spot,USDTWD,Spot,FXSpot,20230726,31.253\\nUSDVEB | Spot,USDVEB,Spot,FXSpot,20230726,2144.6\\nUSDZAR | Spot,USDZAR,Spot,FXSpot,20230726,17.6716\\nXAGUSD | Spot,XAGUSD,Spot,FXSpot,20230726,24.8\\nXPDUSD | Spot,XPDUSD,Spot,FXSpot,20230726,1262.4\\n'"
                        ]
                    },
                    "execution_count": 34,
                    "metadata": {},
                    "output_type": "execute_result"
                }
            ],
            "source": [
                "# Creating a coroutine for reading a file asynchronously\n",
                "task_perform_async_read = async_read(async_ffs, f_inst2, target)\n",
                "result = execute_coroutine(task_perform_async_read)\n",
                "result"
            ]
        },
        {
            "cell_type": "code",
            "execution_count": 37,
            "metadata": {},
            "outputs": [
                {
                    "name": "stdout",
                    "output_type": "stream",
                    "text": [
                        "instrument_name,currency_pair,term,product,date,fx_rate\n",
                        "USDAED | Spot,USDAED,Spot,FXSpot,20230726,3.673025\n",
                        "USDARS | Spot,USDARS,Spot,FXSpot,20230726,272.5\n",
                        "USDCHF | Spot,USDCHF,Spot,FXSpot,20230726,0.8632\n",
                        "USDCNY | Spot,USDCNY,Spot,FXSpot,20230726,7.1504\n",
                        "USDDKK | Spot,USDDKK,Spot,FXSpot,20230726,6.7345\n",
                        "USDHUF | Spot,USDHUF,Spot,FXSpot,20230726,347.17\n",
                        "USDIDO | Spot,USDIDO,Spot,FXSpot,20230726,15032.0\n",
                        "USDIDR | Spot,USDIDR,Spot,FXSpot,20230726,15032.0\n",
                        "USDILS | Spot,USDILS,Spot,FXSpot,20230726,3.6945\n",
                        "USDMXN | Spot,USDMXN,Spot,FXSpot,20230726,16.835\n",
                        "USDPAB | Spot,USDPAB,Spot,FXSpot,20230726,1.0\n",
                        "USDPHF | Spot,USDPHF,Spot,FXSpot,20230726,54.62\n",
                        "USDPHP | Spot,USDPHP,Spot,FXSpot,20230726,54.62\n",
                        "USDSAR | Spot,USDSAR,Spot,FXSpot,20230726,3.7511\n",
                        "USDTHB | Spot,USDTHB,Spot,FXSpot,20230726,34.309\n",
                        "USDTRY | Spot,USDTRY,Spot,FXSpot,20230726,26.9495\n",
                        "USDUAH | Spot,USDUAH,Spot,FXSpot,20230726,36.75145\n",
                        "XAUUSD | Spot,XAUUSD,Spot,FXSpot,20230726,1969.0\n",
                        "AUDUSD | Spot,AUDUSD,Spot,FXSpot,20230726,0.67525\n",
                        "EURUSD | Spot,EURUSD,Spot,FXSpot,20230726,1.1064\n",
                        "NZDUSD | Spot,NZDUSD,Spot,FXSpot,20230726,0.621\n",
                        "USDCAD | Spot,USDCAD,Spot,FXSpot,20230726,1.3219\n",
                        "USDCLF | Spot,USDCLF,Spot,FXSpot,20230726,0.0228602539\n",
                        "USDCOP | Spot,USDCOP,Spot,FXSpot,20230726,3952.5\n",
                        "USDIDF | Spot,USDIDF,Spot,FXSpot,20230726,15032.0\n",
                        "USDINR | Spot,USDINR,Spot,FXSpot,20230726,82.01\n",
                        "USDISK | Spot,USDISK,Spot,FXSpot,20230726,131.51\n",
                        "USDJPY | Spot,USDJPY,Spot,FXSpot,20230726,140.365\n",
                        "USDKRF | Spot,USDKRF,Spot,FXSpot,20230726,1276.5\n",
                        "USDKRW | Spot,USDKRW,Spot,FXSpot,20230726,1276.5\n",
                        "USDKWD | Spot,USDKWD,Spot,FXSpot,20230726,0.30694\n",
                        "USDLBP | Spot,USDLBP,Spot,FXSpot,20230726,15010.0\n",
                        "USDNOK | Spot,USDNOK,Spot,FXSpot,20230726,10.1345\n",
                        "USDPKR | Spot,USDPKR,Spot,FXSpot,20230726,286.8\n",
                        "USDRUB | Spot,USDRUB,Spot,FXSpot,20230726,89.95\n",
                        "USDSEK | Spot,USDSEK,Spot,FXSpot,20230726,10.4541\n",
                        "USDSGD | Spot,USDSGD,Spot,FXSpot,20230726,1.32675\n",
                        "USDTWF | Spot,USDTWF,Spot,FXSpot,20230726,31.253\n",
                        "XPTUSD | Spot,XPTUSD,Spot,FXSpot,20230726,965.5\n",
                        "GBPUSD | Spot,GBPUSD,Spot,FXSpot,20230726,1.2922\n",
                        "USDBMD | Spot,USDBMD,Spot,FXSpot,20230726,1.0\n",
                        "USDBRL | Spot,USDBRL,Spot,FXSpot,20230726,4.7276\n",
                        "USDCLP | Spot,USDCLP,Spot,FXSpot,20230726,824.25\n",
                        "USDCNH | Spot,USDCNH,Spot,FXSpot,20230726,7.15025\n",
                        "USDCZK | Spot,USDCZK,Spot,FXSpot,20230726,21.734\n",
                        "USDEGP | Spot,USDEGP,Spot,FXSpot,20230726,30.9\n",
                        "USDHKD | Spot,USDHKD,Spot,FXSpot,20230726,7.80045\n",
                        "USDINO | Spot,USDINO,Spot,FXSpot,20230726,82.01\n",
                        "USDJOD | Spot,USDJOD,Spot,FXSpot,20230726,0.70855\n",
                        "USDKES | Spot,USDKES,Spot,FXSpot,20230726,143.275\n",
                        "USDLKR | Spot,USDLKR,Spot,FXSpot,20230726,329.0\n",
                        "USDMYR | Spot,USDMYR,Spot,FXSpot,20230726,4.545\n",
                        "USDPEN | Spot,USDPEN,Spot,FXSpot,20230726,3.599\n",
                        "USDPLN | Spot,USDPLN,Spot,FXSpot,20230726,4.0036\n",
                        "USDSKK | Spot,USDSKK,Spot,FXSpot,20230726,27.2288503254\n",
                        "USDTHO | Spot,USDTHO,Spot,FXSpot,20230726,34.309\n",
                        "USDTWD | Spot,USDTWD,Spot,FXSpot,20230726,31.253\n",
                        "USDVEB | Spot,USDVEB,Spot,FXSpot,20230726,2144.6\n",
                        "USDZAR | Spot,USDZAR,Spot,FXSpot,20230726,17.6716\n",
                        "XAGUSD | Spot,XAGUSD,Spot,FXSpot,20230726,24.8\n",
                        "XPDUSD | Spot,XPDUSD,Spot,FXSpot,20230726,1262.4\n",
                        "\n"
                    ]
                }
            ],
            "source": [
                "print(result.decode(\"UTF-8\"))"
            ]
        },
        {
            "cell_type": "markdown",
            "metadata": {},
            "source": [
                "### More Async Reading with Fusion Module"
            ]
        },
        {
            "cell_type": "code",
            "execution_count": 6,
            "metadata": {},
            "outputs": [
                {
                    "name": "stdout",
                    "output_type": "stream",
                    "text": [
                        "b'as_at_date,as_of_date,entity_id,entity_name,parent_entity_id,parent_entity_name,final_parent_entity_'\n",
                        "b'id,final_parent_entity_name,iss_issr_id,iss_issr_name,lei,gics_sctr,gics_sctr_code,gics_industry_grp'\n",
                        "b',gics_industry_grp_code,gics_industry,gics_industry_code,gics_sub_industry,gics_sub_industry_code,cm'\n",
                        "b'pny_ticker,cmpny_isin,cmpny_cusip,cmpny_sedol,cmpny_cins,inst_class,cmpny_exchg_lvl_figi,metrics_by_'\n",
                        "b'proxy_ind,proxy_entity_id,proxy_entity_name,agrcltre_prdctn_num,agrcltre_prdctn_wt,agrcltrl_prdctn,b'\n"
                    ]
                }
            ],
            "source": [
                "### To stream a file using an async generator:\n",
                "\n",
                "# In an async context:\n",
                "target = \"common/datasets/ISS_ESG_CNTRY_RTNG_SSF/datasetseries/20250101/distributions/csv\"\n",
                "async_generator = f_inst1._async_stream_file(target, chunk_size=100) # returns AsyncGenerator[bytes, None]\n",
                "\n",
                "# Working with output as async generator\n",
                "# Printing the first 5 chunks\n",
                "counter = 0\n",
                "async for chunk in async_generator:\n",
                "    print(chunk)\n",
                "    counter += 1\n",
                "    if counter >= 5:\n",
                "        break"
            ]
        },
        {
            "cell_type": "code",
            "execution_count": 7,
            "metadata": {},
            "outputs": [
                {
                    "name": "stdout",
                    "output_type": "stream",
                    "text": [
                        "First 700 chars of file: b'as_at_date,as_of_date,entity_id,entity_name,parent_entity_id,parent_entity_name,final_parent_entity_id,final_parent_entity_name,iss_issr_id,iss_issr_name,lei,gics_sctr,gics_sctr_code,gics_industry_grp,gics_industry_grp_code,gics_industry,gics_industry_code,gics_sub_industry,gics_sub_industry_code,cmpny_ticker,cmpny_isin,cmpny_cusip,cmpny_sedol,cmpny_cins,inst_class,cmpny_exchg_lvl_figi,metrics_by_proxy_ind,proxy_entity_id,proxy_entity_name,agrcltre_prdctn_num,agrcltre_prdctn_wt,agrcltrl_prdctn,biodvrsty,biodvrsty_num,biodvrsty_wt,clmte_chg,clmte_chg_and_energy,clmte_chg_and_energy_num,clmte_chg_and_energy_wt,clmte_chg_num,clmte_chg_wt,cntry_env_rtng,cntry_env_rtng_num,cntry_env_rtng_wt,cntry'\n"
                    ]
                }
            ],
            "source": [
                "### To asynchronously get entire file instead of streaming\n",
                "file_as_bytes = await f_inst1._async_get_file(target, chunk_size=1000)\n",
                "char_limit = 700 # Set a display limit just so notebook doesn't have to render entire file\n",
                "print(f\"First {char_limit} chars of file: {file_as_bytes[:char_limit]}\")"
            ]
        },
        {
            "cell_type": "markdown",
            "metadata": {},
            "source": [
                "The above async examples are modified to run in a notebook.\n",
                "\n",
                "See below for a pattern more applicable to execution in a .py file."
            ]
        },
        {
            "cell_type": "code",
            "execution_count": null,
            "metadata": {},
            "outputs": [],
            "source": [
                "from fusion import Fusion\n",
                "from fusion.fusion_filesystem import FusionHTTPFileSystem\n",
                "\n",
                "# Basic Fusion/ffs setup\n",
                "f_inst3 = Fusion()\n",
                "as_async = True\n",
                "async_ffs = FusionHTTPFileSystem(\n",
                "    client_kwargs={\n",
                "        \"root_url\": f_inst3.root_url,\n",
                "        \"credentials\": f_inst3.credentials,\n",
                "    },\n",
                "    asynchronous=as_async\n",
                ")\n",
                "\n",
                "test_path = \"common/datasets/ISS_ESG_CNTRY_RTNG_SSF/datasetseries/20250101/distributions\"\n",
                "\n",
                "# An HTTP Client session must be opened before executing any async methods on FFS\n",
                "sess = await async_ffs.set_session()\n",
                "\n",
                "# To avoid resource leaks, session should be opened in \"async with\" block.\n",
                "# This ensures resources are cleaned up including when errors arise. Manually opening and then closing with .close() is available at user's own peril.\n",
                "async with sess:\n",
                "    cat_output = await async_ffs._cat(test_path)\n",
                "    exists_output = await async_ffs._exists(test_path)\n",
                "    target = \"catalogs/common/datasets/FXO_SP/datasetseries/20230726/distributions/csv\"\n",
                "    async_download = await async_read(async_ffs, f_inst3, target)\n"
            ]
        }
    ],
    "metadata": {
        "kernelspec": {
            "display_name": ".venv",
            "language": "python",
            "name": "python3"
        },
        "language_info": {
            "codemirror_mode": {
                "name": "ipython",
                "version": 3
            },
            "file_extension": ".py",
            "mimetype": "text/x-python",
            "name": "python",
            "nbconvert_exporter": "python",
            "pygments_lexer": "ipython3",
            "version": "3.10.15"
        }
    },
    "nbformat": 4,
    "nbformat_minor": 2
}
