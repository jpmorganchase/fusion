{
 "cells": [
  {
   "cell_type": "markdown",
   "metadata": {},
   "source": [
    "# Fusion - Metadata Creation"
   ]
  },
  {
   "cell_type": "code",
   "execution_count": 1,
   "metadata": {},
   "outputs": [
    {
     "ename": "ModuleNotFoundError",
     "evalue": "No module named 'fusion'",
     "output_type": "error",
     "traceback": [
      "\u001b[31m---------------------------------------------------------------------------\u001b[39m",
      "\u001b[31mModuleNotFoundError\u001b[39m                       Traceback (most recent call last)",
      "\u001b[36mCell\u001b[39m\u001b[36m \u001b[39m\u001b[32mIn[1]\u001b[39m\u001b[32m, line 1\u001b[39m\n\u001b[32m----> \u001b[39m\u001b[32m1\u001b[39m \u001b[38;5;28;01mfrom\u001b[39;00m\u001b[38;5;250m \u001b[39m\u001b[34;01mfusion\u001b[39;00m\u001b[38;5;250m \u001b[39m\u001b[38;5;28;01mimport\u001b[39;00m Fusion\n\u001b[32m      2\u001b[39m \u001b[38;5;28;01mimport\u001b[39;00m\u001b[38;5;250m \u001b[39m\u001b[34;01mpandas\u001b[39;00m\u001b[38;5;250m \u001b[39m\u001b[38;5;28;01mas\u001b[39;00m\u001b[38;5;250m \u001b[39m\u001b[34;01mpd\u001b[39;00m\n",
      "\u001b[31mModuleNotFoundError\u001b[39m: No module named 'fusion'"
     ]
    }
   ],
   "source": [
    "import pandas as pd\n",
    "\n",
    "from fusion import Fusion"
   ]
  },
  {
   "cell_type": "markdown",
   "metadata": {},
   "source": [
    "## Establish the connection"
   ]
  },
  {
   "cell_type": "code",
   "execution_count": 2,
   "metadata": {},
   "outputs": [
    {
     "ename": "NameError",
     "evalue": "name 'Fusion' is not defined",
     "output_type": "error",
     "traceback": [
      "\u001b[31m---------------------------------------------------------------------------\u001b[39m",
      "\u001b[31mNameError\u001b[39m                                 Traceback (most recent call last)",
      "\u001b[36mCell\u001b[39m\u001b[36m \u001b[39m\u001b[32mIn[2]\u001b[39m\u001b[32m, line 1\u001b[39m\n\u001b[32m----> \u001b[39m\u001b[32m1\u001b[39m fusion = \u001b[43mFusion\u001b[49m()\n",
      "\u001b[31mNameError\u001b[39m: name 'Fusion' is not defined"
     ]
    }
   ],
   "source": [
    "fusion = Fusion()"
   ]
  },
  {
   "cell_type": "markdown",
   "metadata": {},
   "source": [
    "## Show the available functionality"
   ]
  },
  {
   "cell_type": "code",
   "execution_count": null,
   "metadata": {},
   "outputs": [],
   "source": [
    "fusion"
   ]
  },
  {
   "cell_type": "markdown",
   "metadata": {},
   "source": [
    "## Create Product"
   ]
  },
  {
   "cell_type": "markdown",
   "metadata": {},
   "source": [
    "### Create Product Object"
   ]
  },
  {
   "cell_type": "code",
   "execution_count": null,
   "metadata": {},
   "outputs": [],
   "source": [
    "my_product = fusion.product(\n",
    "    identifier=\"PYFUSION_PRODUCT\",\n",
    "    title=\"PyFusion Product\",\n",
    "    description=\"A product created using the PyFusion SDK.\",\n",
    "    short_abstract=\"A product created using the PyFusion SDK.\",\n",
    "    is_restricted=True,\n",
    "    maintainer=\"J.P. Morgan Fusion\",\n",
    "    region=\"Global\",\n",
    "    publisher=\"J.P. Morgan\",\n",
    "    theme=\"Research\"\n",
    ")\n",
    "my_product"
   ]
  },
  {
   "cell_type": "markdown",
   "metadata": {},
   "source": [
    "### Upload to catalog"
   ]
  },
  {
   "cell_type": "code",
   "execution_count": null,
   "metadata": {},
   "outputs": [],
   "source": [
    "my_product.create()"
   ]
  },
  {
   "cell_type": "markdown",
   "metadata": {},
   "source": [
    "## Create Dataset"
   ]
  },
  {
   "cell_type": "markdown",
   "metadata": {},
   "source": [
    "### Create a dataset object"
   ]
  },
  {
   "cell_type": "code",
   "execution_count": null,
   "metadata": {},
   "outputs": [],
   "source": [
    "my_dataset = fusion.dataset(\n",
    "    identifier=\"PYFUSION_DATASET\",\n",
    "    title=\"PyFusion Dataset\",\n",
    "    description=\"A dataset created using the PyFusion SDK.\",\n",
    "    is_restricted=True,\n",
    "    maintainer=\"J.P. Morgan Fusion\",\n",
    "    region=\"Global\",\n",
    "    publisher=\"J.P. Morgan\",\n",
    "    product=\"PYFUSION_PRODUCT\",\n",
    "    is_raw_data=False,\n",
    ")\n",
    "my_dataset"
   ]
  },
  {
   "cell_type": "code",
   "execution_count": null,
   "metadata": {},
   "outputs": [],
   "source": [
    "my_dataset.create()"
   ]
  },
  {
   "cell_type": "markdown",
   "metadata": {},
   "source": [
    "## Create Attributes"
   ]
  },
  {
   "cell_type": "markdown",
   "metadata": {},
   "source": [
    "### Retrieve template for attributes"
   ]
  },
  {
   "cell_type": "code",
   "execution_count": null,
   "metadata": {},
   "outputs": [],
   "source": [
    "attributes_df = fusion.attributes().to_dataframe()\n",
    "attributes_df"
   ]
  },
  {
   "cell_type": "markdown",
   "metadata": {},
   "source": [
    "### Download and edit"
   ]
  },
  {
   "cell_type": "code",
   "execution_count": null,
   "metadata": {},
   "outputs": [],
   "source": [
    "attributes_df.to_csv(\"attributes.csv\", index=False)"
   ]
  },
  {
   "cell_type": "markdown",
   "metadata": {},
   "source": [
    "### Convert to attributes list"
   ]
  },
  {
   "cell_type": "code",
   "execution_count": null,
   "metadata": {},
   "outputs": [],
   "source": [
    "attributes = pd.read_csv(\"attributes.csv\")\n",
    "attributes"
   ]
  },
  {
   "cell_type": "markdown",
   "metadata": {},
   "source": []
  },
  {
   "cell_type": "code",
   "execution_count": null,
   "metadata": {},
   "outputs": [],
   "source": [
    "attributes_list = fusion.attributes().from_object(attributes)\n",
    "attributes_list"
   ]
  },
  {
   "cell_type": "code",
   "execution_count": null,
   "metadata": {},
   "outputs": [
    {
     "ename": "ModuleNotFoundError",
     "evalue": "No module named 'fusion'",
     "output_type": "error",
     "traceback": [
      "\u001b[31m---------------------------------------------------------------------------\u001b[39m",
      "\u001b[31mModuleNotFoundError\u001b[39m                       Traceback (most recent call last)",
      "\u001b[36mCell\u001b[39m\u001b[36m \u001b[39m\u001b[32mIn[2]\u001b[39m\u001b[32m, line 1\u001b[39m\n\u001b[32m----> \u001b[39m\u001b[32m1\u001b[39m \u001b[38;5;28;01mfrom\u001b[39;00m\u001b[38;5;250m \u001b[39m\u001b[34;01mfusion\u001b[39;00m\u001b[34;01m.\u001b[39;00m\u001b[34;01mreport_attributes\u001b[39;00m\u001b[38;5;250m \u001b[39m\u001b[38;5;28;01mimport\u001b[39;00m ReportAttribute, ReportAttributes\n",
      "\u001b[31mModuleNotFoundError\u001b[39m: No module named 'fusion'"
     ]
    }
   ],
   "source": [
    "\n",
    "df = pd.read_csv(\"attributes.csv\")\n",
    "attrs = fusion.report_attributes().from_object(df)\n",
    "\n",
    "for attr in attr.attributes:\n",
    "    print(attr)\n",
    "\n",
    "# attr1 = ReportAttribute(name =\"id\", title = \"ID\")\n",
    "# attributes_final_object = fusion.report_attributes().from_object([attr1])\n",
    "# attributes_final_object "
   ]
  },
  {
   "cell_type": "code",
   "execution_count": null,
   "metadata": {},
   "outputs": [],
   "source": [
    "repsone = attrs.register(reportId = \"use from postman\", return_resp_obj= True)\n",
    "print(response.status_code)\n",
    "print(response.text)\n",
    "                                    \n",
    "                                           "
   ]
  },
  {
   "cell_type": "code",
   "execution_count": null,
   "metadata": {},
   "outputs": [],
   "source": [
    "mappings = [\n",
    "    {\n",
    "        \"attribute\": {\"id\": \"revenue_attr\"},\n",
    "        \"term\": {\"id\": \"term_revenue\"},\n",
    "        \"isKDE\": True\n",
    "    },\n",
    "    {\n",
    "        \"attribute\": {\"id\": \"cost_attr\"},\n",
    "        \"term\": {\"id\": \"term_cost\"},\n",
    "        \"isKDE\": False\n",
    "    }\n",
    "]\n",
    "\n",
    "response = fusion.link_attributes_to_terms(\n",
    "    report_id=\"report_abc123\",\n",
    "    mappings=mappings,\n",
    "    output=True\n",
    ")\n"
   ]
  },
  {
   "cell_type": "markdown",
   "metadata": {},
   "source": [
    "### Upload attributes to dataset on catalog"
   ]
  },
  {
   "cell_type": "code",
   "execution_count": null,
   "metadata": {},
   "outputs": [],
   "source": [
    "attributes_list.create(dataset=\"PYFUSION_DATASET\")"
   ]
  },
  {
   "cell_type": "markdown",
   "metadata": {},
   "source": [
    "### Upload a file"
   ]
  },
  {
   "cell_type": "code",
   "execution_count": null,
   "metadata": {},
   "outputs": [],
   "source": [
    "file_df = pd.read_csv(\"sample.csv\")\n",
    "file_df"
   ]
  },
  {
   "cell_type": "code",
   "execution_count": null,
   "metadata": {},
   "outputs": [],
   "source": [
    "fusion.upload(\n",
    "    path=\"sample.csv\",\n",
    "    dataset=\"PYFUSION_DATASET\",\n",
    "    dt_str=\"20241025\",\n",
    ")"
   ]
  },
  {
   "cell_type": "markdown",
   "metadata": {},
   "source": [
    "## Create Raw Dataset"
   ]
  },
  {
   "cell_type": "code",
   "execution_count": null,
   "metadata": {},
   "outputs": [],
   "source": [
    "my_raw_dataset = fusion.dataset(\n",
    "    identifier=\"PYFUSION_RAW_DATASET\",\n",
    "    title=\"PyFusion Raw Dataset\",\n",
    "    description=\"A dataset created using the PyFusion SDK.\",\n",
    "    is_restricted=True,\n",
    "    maintainer=\"J.P. Morgan Fusion\",\n",
    "    region=\"Global\",\n",
    "    publisher=\"J.P. Morgan\",\n",
    "    product=\"PYFUSION_PRODUCT\",\n",
    "    is_raw_data=True,\n",
    ")\n",
    "my_raw_dataset"
   ]
  },
  {
   "cell_type": "code",
   "execution_count": null,
   "metadata": {},
   "outputs": [],
   "source": [
    "my_raw_dataset.create()"
   ]
  },
  {
   "cell_type": "markdown",
   "metadata": {},
   "source": [
    "## Upload data without schema"
   ]
  },
  {
   "cell_type": "code",
   "execution_count": null,
   "metadata": {},
   "outputs": [],
   "source": [
    "fusion.upload(\n",
    "    path=\"sample.csv\",\n",
    "    dataset=\"PYFUSION_RAW_DATASET\",\n",
    "    dt_str=\"20241025\",\n",
    ")"
   ]
  }
 ],
 "metadata": {
  "kernelspec": {
   "display_name": "Python 3",
   "language": "python",
   "name": "python3"
  },
  "language_info": {
   "codemirror_mode": {
    "name": "ipython",
    "version": 3
   },
   "file_extension": ".py",
   "mimetype": "text/x-python",
   "name": "python",
   "nbconvert_exporter": "python",
   "pygments_lexer": "ipython3",
   "version": "3.13.3"
  }
 },
 "nbformat": 4,
 "nbformat_minor": 2
}
