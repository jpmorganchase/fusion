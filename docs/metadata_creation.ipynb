{
 "cells": [
  {
   "cell_type": "markdown",
   "metadata": {},
   "source": [
    "# Fusion - Metadata Creation"
   ]
  },
  {
   "cell_type": "code",
   "execution_count": 1,
   "metadata": {},
   "outputs": [],
   "source": [
    "from fusion import Fusion\n",
    "import pandas as pd"
   ]
  },
  {
   "cell_type": "markdown",
   "metadata": {},
   "source": [
    "## Establish the connection"
   ]
  },
  {
   "cell_type": "code",
   "execution_count": 2,
   "metadata": {},
   "outputs": [],
   "source": [
    "fusion = Fusion()"
   ]
  },
  {
   "cell_type": "markdown",
   "metadata": {},
   "source": [
    "## Show the available functionality"
   ]
  },
  {
   "cell_type": "code",
   "execution_count": 3,
   "metadata": {},
   "outputs": [
    {
     "data": {
      "text/plain": [
       "Fusion object \n",
       "Available methods:\n",
       "+------------------------------+--------------------------------------------------------------------------------------------------+\n",
       "| attribute                    | Instantiate an Attribute object with this client for metadata creation.                          |\n",
       "| attributes                   | Instantiate an Attributes object with this client for metadata creation.                         |\n",
       "| catalog_resources            | List the resources contained within the catalog, for example products and datasets.              |\n",
       "| create_dataset_lineage       | Upload lineage to a dataset.                                                                     |\n",
       "| dataset                      | Instantiate a Dataset object with this client for metadata creation.                             |\n",
       "| dataset_resources            | List the resources available for a dataset, currently this will always be a datasetseries.       |\n",
       "| datasetmember_resources      | List the available resources for a datasetseries member.                                         |\n",
       "| delete_all_datasetmembers    | Delete all dataset members within a dataset.                                                     |\n",
       "| delete_datasetmembers        | Delete dataset members.                                                                          |\n",
       "| download                     | Downloads the requested distributions of a dataset to disk.                                      |\n",
       "| from_bytes                   | Uploads data from an object in memory.                                                           |\n",
       "| get_events                   | Run server sent event listener and print out the new events. Keyboard terminate to stop.         |\n",
       "| get_fusion_filesystem        | Creates Fusion Filesystem.                                                                       |\n",
       "| list_catalogs                | Lists the catalogs available to the API account.                                                 |\n",
       "| list_dataset_attributes      | Returns the list of attributes that are in the dataset.                                          |\n",
       "| list_dataset_lineage         | List the upstream and downstream lineage of the dataset.                                         |\n",
       "| list_datasetmembers          | List the available members in the dataset series.                                                |\n",
       "| list_datasets                | Get the datasets contained in a catalog.                                                         |\n",
       "| list_distributions           | List the available distributions (downloadable instances of the dataset with a format type).     |\n",
       "| list_product_dataset_mapping | get the product to dataset linking contained in  a catalog. A product is a grouping of datasets. |\n",
       "| list_products                | Get the products contained in a catalog. A product is a grouping of datasets.                    |\n",
       "| listen_to_events             | Run server sent event listener in the background. Retrieve results by running get_events.        |\n",
       "| product                      | Instantiate a Product object with this client for metadata creation.                             |\n",
       "| to_bytes                     | Returns an instance of dataset (the distribution) as a bytes object.                             |\n",
       "| to_df                        | Gets distributions for a specified date or date range and returns the data as a dataframe.       |\n",
       "| to_table                     | Gets distributions for a specified date or date range and returns the data as an arrow table.    |\n",
       "| upload                       | Uploads the requested files/files to Fusion.                                                     |\n",
       "| default_catalog              | Returns the default catalog.                                                                     |\n",
       "+------------------------------+--------------------------------------------------------------------------------------------------+"
      ]
     },
     "execution_count": 3,
     "metadata": {},
     "output_type": "execute_result"
    }
   ],
   "source": [
    "fusion"
   ]
  },
  {
   "cell_type": "markdown",
   "metadata": {},
   "source": [
    "## Create Product"
   ]
  },
  {
   "cell_type": "markdown",
   "metadata": {},
   "source": [
    "### Create Product Object"
   ]
  },
  {
   "cell_type": "code",
   "execution_count": 4,
   "metadata": {},
   "outputs": [
    {
     "data": {
      "text/plain": [
       "Product(\n",
       "identifier='PYFUSION_PRODUCT',\n",
       " title='PyFusion Product',\n",
       " category=None,\n",
       " short_abstract='A product created using the PyFusion SDK.',\n",
       " description='A product created using the PyFusion SDK.',\n",
       " is_active=True,\n",
       " is_restricted=True,\n",
       " maintainer=['J.P. Morgan Fusion'],\n",
       " region=['Global'],\n",
       " publisher='J.P. Morgan',\n",
       " sub_category=None,\n",
       " tag=None,\n",
       " delivery_channel=['API'],\n",
       " theme='Research',\n",
       " release_date=None,\n",
       " language='English',\n",
       " status='Available',\n",
       " image='',\n",
       " logo='',\n",
       " dataset=None\n",
       ")"
      ]
     },
     "execution_count": 4,
     "metadata": {},
     "output_type": "execute_result"
    }
   ],
   "source": [
    "my_product = fusion.product(\n",
    "    identifier=\"PYFUSION_PRODUCT\",\n",
    "    title=\"PyFusion Product\",\n",
    "    description=\"A product created using the PyFusion SDK.\",\n",
    "    short_abstract=\"A product created using the PyFusion SDK.\",\n",
    "    is_restricted=True,\n",
    "    maintainer=\"J.P. Morgan Fusion\",\n",
    "    region=\"Global\",\n",
    "    publisher=\"J.P. Morgan\",\n",
    "    theme=\"Research\"\n",
    ")\n",
    "my_product"
   ]
  },
  {
   "cell_type": "markdown",
   "metadata": {},
   "source": [
    "### Upload to catalog"
   ]
  },
  {
   "cell_type": "code",
   "execution_count": null,
   "metadata": {},
   "outputs": [],
   "source": [
    "my_product.create()"
   ]
  },
  {
   "cell_type": "markdown",
   "metadata": {},
   "source": [
    "## Create Dataset"
   ]
  },
  {
   "cell_type": "markdown",
   "metadata": {},
   "source": [
    "### Create a dataset object"
   ]
  },
  {
   "cell_type": "code",
   "execution_count": 5,
   "metadata": {},
   "outputs": [
    {
     "data": {
      "text/plain": [
       "Dataset(\n",
       "identifier='PYFUSION_DATASET',\n",
       " title='PyFusion Dataset',\n",
       " category=None,\n",
       " description='A dataset created using the PyFusion SDK.',\n",
       " frequency='Once',\n",
       " is_internal_only_dataset=False,\n",
       " is_third_party_data=True,\n",
       " is_restricted=True,\n",
       " is_raw_data=False,\n",
       " maintainer='J.P. Morgan Fusion',\n",
       " source=None,\n",
       " region=['Global'],\n",
       " publisher='J.P. Morgan',\n",
       " product=['PYFUSION_PRODUCT'],\n",
       " sub_category=None,\n",
       " tags=None,\n",
       " created_date=None,\n",
       " modified_date=None,\n",
       " delivery_channel=['API'],\n",
       " language='English',\n",
       " status='Available',\n",
       " type_='Source',\n",
       " container_type='Snapshot-Full',\n",
       " snowflake=None,\n",
       " complexity=None,\n",
       " is_immutable=None,\n",
       " is_mnpi=None,\n",
       " is_pci=None,\n",
       " is_pii=None,\n",
       " is_client=None,\n",
       " is_public=None,\n",
       " is_internal=None,\n",
       " is_confidential=None,\n",
       " is_highly_confidential=None,\n",
       " is_active=None,\n",
       " owners=None,\n",
       " application_id=None\n",
       ")"
      ]
     },
     "execution_count": 5,
     "metadata": {},
     "output_type": "execute_result"
    }
   ],
   "source": [
    "my_dataset = fusion.dataset(\n",
    "    identifier=\"PYFUSION_DATASET\",\n",
    "    title=\"PyFusion Dataset\",\n",
    "    description=\"A dataset created using the PyFusion SDK.\",\n",
    "    is_restricted=True,\n",
    "    maintainer=\"J.P. Morgan Fusion\",\n",
    "    region=\"Global\",\n",
    "    publisher=\"J.P. Morgan\",\n",
    "    product=\"PYFUSION_PRODUCT\",\n",
    "    is_raw_data=False,\n",
    ")\n",
    "my_dataset"
   ]
  },
  {
   "cell_type": "code",
   "execution_count": null,
   "metadata": {},
   "outputs": [],
   "source": [
    "my_dataset.create()"
   ]
  },
  {
   "cell_type": "markdown",
   "metadata": {},
   "source": [
    "## Create Attributes"
   ]
  },
  {
   "cell_type": "markdown",
   "metadata": {},
   "source": [
    "### Retrieve template for attributes"
   ]
  },
  {
   "cell_type": "code",
   "execution_count": 6,
   "metadata": {},
   "outputs": [
    {
     "data": {
      "text/html": [
       "<div>\n",
       "<style scoped>\n",
       "    .dataframe tbody tr th:only-of-type {\n",
       "        vertical-align: middle;\n",
       "    }\n",
       "\n",
       "    .dataframe tbody tr th {\n",
       "        vertical-align: top;\n",
       "    }\n",
       "\n",
       "    .dataframe thead th {\n",
       "        text-align: right;\n",
       "    }\n",
       "</style>\n",
       "<table border=\"1\" class=\"dataframe\">\n",
       "  <thead>\n",
       "    <tr style=\"text-align: right;\">\n",
       "      <th></th>\n",
       "      <th>identifier</th>\n",
       "      <th>index</th>\n",
       "      <th>dataType</th>\n",
       "      <th>title</th>\n",
       "      <th>description</th>\n",
       "      <th>isDatasetKey</th>\n",
       "      <th>source</th>\n",
       "      <th>sourceFieldId</th>\n",
       "      <th>isInternalDatasetKey</th>\n",
       "      <th>isExternallyVisible</th>\n",
       "      <th>unit</th>\n",
       "      <th>multiplier</th>\n",
       "      <th>isPropagationEligible</th>\n",
       "      <th>isMetric</th>\n",
       "      <th>availableFrom</th>\n",
       "      <th>deprecatedFrom</th>\n",
       "      <th>term</th>\n",
       "      <th>dataset</th>\n",
       "      <th>attributeType</th>\n",
       "    </tr>\n",
       "  </thead>\n",
       "  <tbody>\n",
       "    <tr>\n",
       "      <th>0</th>\n",
       "      <td>example_attribute</td>\n",
       "      <td>0</td>\n",
       "      <td>String</td>\n",
       "      <td>Example Attribute</td>\n",
       "      <td>Example Attribute</td>\n",
       "      <td>False</td>\n",
       "      <td>None</td>\n",
       "      <td>example_attribute</td>\n",
       "      <td>None</td>\n",
       "      <td>True</td>\n",
       "      <td>None</td>\n",
       "      <td>1.0</td>\n",
       "      <td>None</td>\n",
       "      <td>None</td>\n",
       "      <td>None</td>\n",
       "      <td>None</td>\n",
       "      <td>bizterm1</td>\n",
       "      <td>None</td>\n",
       "      <td>None</td>\n",
       "    </tr>\n",
       "  </tbody>\n",
       "</table>\n",
       "</div>"
      ],
      "text/plain": [
       "          identifier  index dataType              title        description  \\\n",
       "0  example_attribute      0   String  Example Attribute  Example Attribute   \n",
       "\n",
       "   isDatasetKey source      sourceFieldId isInternalDatasetKey  \\\n",
       "0         False   None  example_attribute                 None   \n",
       "\n",
       "   isExternallyVisible  unit  multiplier isPropagationEligible isMetric  \\\n",
       "0                 True  None         1.0                  None     None   \n",
       "\n",
       "  availableFrom deprecatedFrom      term dataset attributeType  \n",
       "0          None           None  bizterm1    None          None  "
      ]
     },
     "execution_count": 6,
     "metadata": {},
     "output_type": "execute_result"
    }
   ],
   "source": [
    "attributes_df = fusion.attributes().to_dataframe()\n",
    "attributes_df"
   ]
  },
  {
   "cell_type": "markdown",
   "metadata": {},
   "source": [
    "### Download and edit"
   ]
  },
  {
   "cell_type": "code",
   "execution_count": 7,
   "metadata": {},
   "outputs": [],
   "source": [
    "attributes_df.to_csv('attributes.csv', index=False)"
   ]
  },
  {
   "cell_type": "markdown",
   "metadata": {},
   "source": [
    "### Convert to attributes list"
   ]
  },
  {
   "cell_type": "code",
   "execution_count": 8,
   "metadata": {},
   "outputs": [
    {
     "data": {
      "text/html": [
       "<div>\n",
       "<style scoped>\n",
       "    .dataframe tbody tr th:only-of-type {\n",
       "        vertical-align: middle;\n",
       "    }\n",
       "\n",
       "    .dataframe tbody tr th {\n",
       "        vertical-align: top;\n",
       "    }\n",
       "\n",
       "    .dataframe thead th {\n",
       "        text-align: right;\n",
       "    }\n",
       "</style>\n",
       "<table border=\"1\" class=\"dataframe\">\n",
       "  <thead>\n",
       "    <tr style=\"text-align: right;\">\n",
       "      <th></th>\n",
       "      <th>identifier</th>\n",
       "      <th>index</th>\n",
       "      <th>dataType</th>\n",
       "      <th>title</th>\n",
       "      <th>description</th>\n",
       "      <th>isDatasetKey</th>\n",
       "      <th>source</th>\n",
       "      <th>sourceFieldId</th>\n",
       "      <th>isInternalDatasetKey</th>\n",
       "      <th>isExternallyVisible</th>\n",
       "      <th>unit</th>\n",
       "      <th>multiplier</th>\n",
       "      <th>isPropogationEligible</th>\n",
       "      <th>isMetric</th>\n",
       "      <th>availableFrom</th>\n",
       "      <th>deprecatedFrom</th>\n",
       "      <th>term</th>\n",
       "      <th>dataset</th>\n",
       "      <th>attributeType</th>\n",
       "    </tr>\n",
       "  </thead>\n",
       "  <tbody>\n",
       "    <tr>\n",
       "      <th>0</th>\n",
       "      <td>example_attribute0</td>\n",
       "      <td>0</td>\n",
       "      <td>String</td>\n",
       "      <td>Example Attribute 0</td>\n",
       "      <td>Example Attribute 0</td>\n",
       "      <td>False</td>\n",
       "      <td>NaN</td>\n",
       "      <td>example_attribute 0</td>\n",
       "      <td>NaN</td>\n",
       "      <td>True</td>\n",
       "      <td>NaN</td>\n",
       "      <td>1.0</td>\n",
       "      <td>NaN</td>\n",
       "      <td>NaN</td>\n",
       "      <td>NaN</td>\n",
       "      <td>NaN</td>\n",
       "      <td>bizterm1</td>\n",
       "      <td>NaN</td>\n",
       "      <td>NaN</td>\n",
       "    </tr>\n",
       "    <tr>\n",
       "      <th>1</th>\n",
       "      <td>example_attribute1</td>\n",
       "      <td>1</td>\n",
       "      <td>String</td>\n",
       "      <td>Example Attribute 1</td>\n",
       "      <td>Example Attribute 1</td>\n",
       "      <td>False</td>\n",
       "      <td>NaN</td>\n",
       "      <td>example_attribute 1</td>\n",
       "      <td>NaN</td>\n",
       "      <td>True</td>\n",
       "      <td>NaN</td>\n",
       "      <td>1.0</td>\n",
       "      <td>NaN</td>\n",
       "      <td>NaN</td>\n",
       "      <td>NaN</td>\n",
       "      <td>NaN</td>\n",
       "      <td>bizterm1</td>\n",
       "      <td>NaN</td>\n",
       "      <td>NaN</td>\n",
       "    </tr>\n",
       "    <tr>\n",
       "      <th>2</th>\n",
       "      <td>example_attribute2</td>\n",
       "      <td>2</td>\n",
       "      <td>String</td>\n",
       "      <td>Example Attribute 2</td>\n",
       "      <td>Example Attribute 2</td>\n",
       "      <td>False</td>\n",
       "      <td>NaN</td>\n",
       "      <td>example_attribute 2</td>\n",
       "      <td>NaN</td>\n",
       "      <td>True</td>\n",
       "      <td>NaN</td>\n",
       "      <td>1.0</td>\n",
       "      <td>NaN</td>\n",
       "      <td>NaN</td>\n",
       "      <td>NaN</td>\n",
       "      <td>NaN</td>\n",
       "      <td>bizterm1</td>\n",
       "      <td>NaN</td>\n",
       "      <td>NaN</td>\n",
       "    </tr>\n",
       "  </tbody>\n",
       "</table>\n",
       "</div>"
      ],
      "text/plain": [
       "           identifier  index dataType                title  \\\n",
       "0  example_attribute0      0   String  Example Attribute 0   \n",
       "1  example_attribute1      1   String  Example Attribute 1   \n",
       "2  example_attribute2      2   String  Example Attribute 2   \n",
       "\n",
       "           description  isDatasetKey  source        sourceFieldId  \\\n",
       "0  Example Attribute 0         False     NaN  example_attribute 0   \n",
       "1  Example Attribute 1         False     NaN  example_attribute 1   \n",
       "2  Example Attribute 2         False     NaN  example_attribute 2   \n",
       "\n",
       "   isInternalDatasetKey  isExternallyVisible  unit  multiplier  \\\n",
       "0                   NaN                 True   NaN         1.0   \n",
       "1                   NaN                 True   NaN         1.0   \n",
       "2                   NaN                 True   NaN         1.0   \n",
       "\n",
       "   isPropogationEligible  isMetric  availableFrom  deprecatedFrom      term  \\\n",
       "0                    NaN       NaN            NaN             NaN  bizterm1   \n",
       "1                    NaN       NaN            NaN             NaN  bizterm1   \n",
       "2                    NaN       NaN            NaN             NaN  bizterm1   \n",
       "\n",
       "   dataset  attributeType  \n",
       "0      NaN            NaN  \n",
       "1      NaN            NaN  \n",
       "2      NaN            NaN  "
      ]
     },
     "execution_count": 8,
     "metadata": {},
     "output_type": "execute_result"
    }
   ],
   "source": [
    "attributes = pd.read_csv('attributes.csv')\n",
    "attributes"
   ]
  },
  {
   "cell_type": "code",
   "execution_count": 9,
   "metadata": {},
   "outputs": [
    {
     "data": {
      "text/plain": [
       "[\n",
       "('example_attribute0', 0, <Types.String: 1>, 'Example Attribute 0', 'Example Attribute 0', False, None, 'example_attribute_0', None, True, None, 1.0, None, None, None, None, 'bizterm1', None, None),\n",
       " ('example_attribute1', 1, <Types.String: 1>, 'Example Attribute 1', 'Example Attribute 1', False, None, 'example_attribute_1', None, True, None, 1.0, None, None, None, None, 'bizterm1', None, None),\n",
       " ('example_attribute2', 2, <Types.String: 1>, 'Example Attribute 2', 'Example Attribute 2', False, None, 'example_attribute_2', None, True, None, 1.0, None, None, None, None, 'bizterm1', None, None)\n",
       "]"
      ]
     },
     "execution_count": 9,
     "metadata": {},
     "output_type": "execute_result"
    }
   ],
   "source": [
    "attributes_list = fusion.attributes().from_object(attributes)\n",
    "attributes_list"
   ]
  },
  {
   "cell_type": "markdown",
   "metadata": {},
   "source": [
    "### Upload attributes to dataset on catalog"
   ]
  },
  {
   "cell_type": "code",
   "execution_count": null,
   "metadata": {},
   "outputs": [],
   "source": [
    "attributes_list.create(dataset=\"PYFUSION_DATASET\")"
   ]
  },
  {
   "cell_type": "markdown",
   "metadata": {},
   "source": [
    "### Upload a file"
   ]
  },
  {
   "cell_type": "code",
   "execution_count": 11,
   "metadata": {},
   "outputs": [
    {
     "data": {
      "text/html": [
       "<div>\n",
       "<style scoped>\n",
       "    .dataframe tbody tr th:only-of-type {\n",
       "        vertical-align: middle;\n",
       "    }\n",
       "\n",
       "    .dataframe tbody tr th {\n",
       "        vertical-align: top;\n",
       "    }\n",
       "\n",
       "    .dataframe thead th {\n",
       "        text-align: right;\n",
       "    }\n",
       "</style>\n",
       "<table border=\"1\" class=\"dataframe\">\n",
       "  <thead>\n",
       "    <tr style=\"text-align: right;\">\n",
       "      <th></th>\n",
       "      <th>example_attribute0</th>\n",
       "      <th>example_attribute1</th>\n",
       "      <th>example_attribute2</th>\n",
       "    </tr>\n",
       "  </thead>\n",
       "  <tbody>\n",
       "    <tr>\n",
       "      <th>0</th>\n",
       "      <td>A</td>\n",
       "      <td>A</td>\n",
       "      <td>A</td>\n",
       "    </tr>\n",
       "    <tr>\n",
       "      <th>1</th>\n",
       "      <td>B</td>\n",
       "      <td>B</td>\n",
       "      <td>B</td>\n",
       "    </tr>\n",
       "    <tr>\n",
       "      <th>2</th>\n",
       "      <td>C</td>\n",
       "      <td>C</td>\n",
       "      <td>C</td>\n",
       "    </tr>\n",
       "  </tbody>\n",
       "</table>\n",
       "</div>"
      ],
      "text/plain": [
       "  example_attribute0 example_attribute1 example_attribute2\n",
       "0                  A                  A                  A\n",
       "1                  B                  B                  B\n",
       "2                  C                  C                  C"
      ]
     },
     "execution_count": 11,
     "metadata": {},
     "output_type": "execute_result"
    }
   ],
   "source": [
    "file_df = pd.read_csv('sample.csv')\n",
    "file_df"
   ]
  },
  {
   "cell_type": "code",
   "execution_count": null,
   "metadata": {},
   "outputs": [],
   "source": [
    "fusion.upload(\n",
    "    path='sample.csv',\n",
    "    dataset=\"PYFUSION_DATASET\",\n",
    "    dt_str=\"20241025\",\n",
    ")"
   ]
  },
  {
   "cell_type": "markdown",
   "metadata": {},
   "source": [
    "## Create Raw Dataset"
   ]
  },
  {
   "cell_type": "code",
   "execution_count": 7,
   "metadata": {},
   "outputs": [
    {
     "data": {
      "text/plain": [
       "Dataset(\n",
       "identifier='PYFUSION_RAW_DATASET',\n",
       " title='PyFusion Raw Dataset',\n",
       " category=None,\n",
       " description='A dataset created using the PyFusion SDK.',\n",
       " frequency='Once',\n",
       " is_internal_only_dataset=False,\n",
       " is_third_party_data=True,\n",
       " is_restricted=True,\n",
       " is_raw_data=True,\n",
       " maintainer='J.P. Morgan Fusion',\n",
       " source=None,\n",
       " region=['Global'],\n",
       " publisher='J.P. Morgan',\n",
       " product=['PYFUSION_PRODUCT'],\n",
       " sub_category=None,\n",
       " tags=None,\n",
       " created_date=None,\n",
       " modified_date=None,\n",
       " delivery_channel=['API'],\n",
       " language='English',\n",
       " status='Available',\n",
       " type_='Source',\n",
       " container_type='Snapshot-Full',\n",
       " snowflake=None,\n",
       " complexity=None,\n",
       " is_immutable=None,\n",
       " is_mnpi=None,\n",
       " is_pci=None,\n",
       " is_pii=None,\n",
       " is_client=None,\n",
       " is_public=None,\n",
       " is_internal=None,\n",
       " is_confidential=None,\n",
       " is_highly_confidential=None,\n",
       " is_active=None,\n",
       " owners=None,\n",
       " application_id=None\n",
       ")"
      ]
     },
     "execution_count": 7,
     "metadata": {},
     "output_type": "execute_result"
    }
   ],
   "source": [
    "my_raw_dataset = fusion.dataset(\n",
    "    identifier=\"PYFUSION_RAW_DATASET\",\n",
    "    title=\"PyFusion Raw Dataset\",\n",
    "    description=\"A dataset created using the PyFusion SDK.\",\n",
    "    is_restricted=True,\n",
    "    maintainer=\"J.P. Morgan Fusion\",\n",
    "    region=\"Global\",\n",
    "    publisher=\"J.P. Morgan\",\n",
    "    product=\"PYFUSION_PRODUCT\",\n",
    "    is_raw_data=True,\n",
    ")\n",
    "my_raw_dataset"
   ]
  },
  {
   "cell_type": "code",
   "execution_count": null,
   "metadata": {},
   "outputs": [],
   "source": [
    "my_raw_dataset.create()"
   ]
  },
  {
   "cell_type": "markdown",
   "metadata": {},
   "source": [
    "## Upload data without schema"
   ]
  },
  {
   "cell_type": "code",
   "execution_count": null,
   "metadata": {},
   "outputs": [],
   "source": [
    "fusion.upload(\n",
    "    path='sample.csv',\n",
    "    dataset=\"PYFUSION_RAW_DATASET\",\n",
    "    dt_str=\"20241025\",\n",
    ")"
   ]
  }
 ],
 "metadata": {
  "kernelspec": {
   "display_name": ".venv",
   "language": "python",
   "name": "python3"
  },
  "language_info": {
   "codemirror_mode": {
    "name": "ipython",
    "version": 3
   },
   "file_extension": ".py",
   "mimetype": "text/x-python",
   "name": "python",
   "nbconvert_exporter": "python",
   "pygments_lexer": "ipython3",
   "version": "3.9.20"
  }
 },
 "nbformat": 4,
 "nbformat_minor": 2
}
